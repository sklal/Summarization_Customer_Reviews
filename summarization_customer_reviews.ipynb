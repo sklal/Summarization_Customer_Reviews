{
 "cells": [
  {
   "cell_type": "markdown",
   "metadata": {},
   "source": [
    "## Import Libraries and Data"
   ]
  },
  {
   "cell_type": "code",
   "execution_count": 1,
   "metadata": {
    "_cell_guid": "b1076dfc-b9ad-4769-8c92-a6c4dae69d19",
    "_uuid": "8f2839f25d086af736a60e9eeb907d3b93b6e0e5"
   },
   "outputs": [],
   "source": [
    "import numpy as np               #array processing\n",
    "import pandas as pd              #data manipulation\n",
    "import re                        #regular expression for text cleaning\n",
    "import random\n",
    "\n",
    "import matplotlib.pyplot as plt\n",
    "%matplotlib inline\n",
    "\n",
    "import warnings\n",
    "pd.set_option(\"display.max_colwidth\", 200)\n",
    "warnings.filterwarnings(\"ignore\")"
   ]
  },
  {
   "cell_type": "code",
   "execution_count": 2,
   "metadata": {
    "_cell_guid": "79c7e3d0-c299-4dcb-8224-4455121ee9b0",
    "_uuid": "d629ff2d2480ee46fbb7e2d37f6b5fab8052498a"
   },
   "outputs": [],
   "source": [
    "data = pd.read_csv(\"Womens Clothing E-Commerce Reviews.csv\")"
   ]
  },
  {
   "cell_type": "markdown",
   "metadata": {},
   "source": [
    "Let's check the shape of the data."
   ]
  },
  {
   "cell_type": "code",
   "execution_count": 3,
   "metadata": {},
   "outputs": [
    {
     "data": {
      "text/plain": [
       "(23486, 11)"
      ]
     },
     "execution_count": 3,
     "metadata": {},
     "output_type": "execute_result"
    }
   ],
   "source": [
    "data.shape"
   ]
  },
  {
   "cell_type": "code",
   "execution_count": 4,
   "metadata": {},
   "outputs": [
    {
     "data": {
      "text/html": [
       "<div>\n",
       "<style scoped>\n",
       "    .dataframe tbody tr th:only-of-type {\n",
       "        vertical-align: middle;\n",
       "    }\n",
       "\n",
       "    .dataframe tbody tr th {\n",
       "        vertical-align: top;\n",
       "    }\n",
       "\n",
       "    .dataframe thead th {\n",
       "        text-align: right;\n",
       "    }\n",
       "</style>\n",
       "<table border=\"1\" class=\"dataframe\">\n",
       "  <thead>\n",
       "    <tr style=\"text-align: right;\">\n",
       "      <th></th>\n",
       "      <th>Unnamed: 0</th>\n",
       "      <th>Clothing ID</th>\n",
       "      <th>Age</th>\n",
       "      <th>Title</th>\n",
       "      <th>Review Text</th>\n",
       "      <th>Rating</th>\n",
       "      <th>Recommended IND</th>\n",
       "      <th>Positive Feedback Count</th>\n",
       "      <th>Division Name</th>\n",
       "      <th>Department Name</th>\n",
       "      <th>Class Name</th>\n",
       "    </tr>\n",
       "  </thead>\n",
       "  <tbody>\n",
       "    <tr>\n",
       "      <th>0</th>\n",
       "      <td>0</td>\n",
       "      <td>767</td>\n",
       "      <td>33</td>\n",
       "      <td>NaN</td>\n",
       "      <td>Absolutely wonderful - silky and sexy and comfortable</td>\n",
       "      <td>4</td>\n",
       "      <td>1</td>\n",
       "      <td>0</td>\n",
       "      <td>Initmates</td>\n",
       "      <td>Intimate</td>\n",
       "      <td>Intimates</td>\n",
       "    </tr>\n",
       "    <tr>\n",
       "      <th>1</th>\n",
       "      <td>1</td>\n",
       "      <td>1080</td>\n",
       "      <td>34</td>\n",
       "      <td>NaN</td>\n",
       "      <td>Love this dress!  it's sooo pretty.  i happened to find it in a store, and i'm glad i did bc i never would have ordered it online bc it's petite.  i bought a petite and am 5'8\".  i love the length...</td>\n",
       "      <td>5</td>\n",
       "      <td>1</td>\n",
       "      <td>4</td>\n",
       "      <td>General</td>\n",
       "      <td>Dresses</td>\n",
       "      <td>Dresses</td>\n",
       "    </tr>\n",
       "    <tr>\n",
       "      <th>2</th>\n",
       "      <td>2</td>\n",
       "      <td>1077</td>\n",
       "      <td>60</td>\n",
       "      <td>Some major design flaws</td>\n",
       "      <td>I had such high hopes for this dress and really wanted it to work for me. i initially ordered the petite small (my usual size) but i found this to be outrageously small. so small in fact that i co...</td>\n",
       "      <td>3</td>\n",
       "      <td>0</td>\n",
       "      <td>0</td>\n",
       "      <td>General</td>\n",
       "      <td>Dresses</td>\n",
       "      <td>Dresses</td>\n",
       "    </tr>\n",
       "    <tr>\n",
       "      <th>3</th>\n",
       "      <td>3</td>\n",
       "      <td>1049</td>\n",
       "      <td>50</td>\n",
       "      <td>My favorite buy!</td>\n",
       "      <td>I love, love, love this jumpsuit. it's fun, flirty, and fabulous! every time i wear it, i get nothing but great compliments!</td>\n",
       "      <td>5</td>\n",
       "      <td>1</td>\n",
       "      <td>0</td>\n",
       "      <td>General Petite</td>\n",
       "      <td>Bottoms</td>\n",
       "      <td>Pants</td>\n",
       "    </tr>\n",
       "    <tr>\n",
       "      <th>4</th>\n",
       "      <td>4</td>\n",
       "      <td>847</td>\n",
       "      <td>47</td>\n",
       "      <td>Flattering shirt</td>\n",
       "      <td>This shirt is very flattering to all due to the adjustable front tie. it is the perfect length to wear with leggings and it is sleeveless so it pairs well with any cardigan. love this shirt!!!</td>\n",
       "      <td>5</td>\n",
       "      <td>1</td>\n",
       "      <td>6</td>\n",
       "      <td>General</td>\n",
       "      <td>Tops</td>\n",
       "      <td>Blouses</td>\n",
       "    </tr>\n",
       "  </tbody>\n",
       "</table>\n",
       "</div>"
      ],
      "text/plain": [
       "   Unnamed: 0  Clothing ID  Age                    Title  \\\n",
       "0           0          767   33                      NaN   \n",
       "1           1         1080   34                      NaN   \n",
       "2           2         1077   60  Some major design flaws   \n",
       "3           3         1049   50         My favorite buy!   \n",
       "4           4          847   47         Flattering shirt   \n",
       "\n",
       "                                                                                                                                                                                               Review Text  \\\n",
       "0                                                                                                                                                    Absolutely wonderful - silky and sexy and comfortable   \n",
       "1  Love this dress!  it's sooo pretty.  i happened to find it in a store, and i'm glad i did bc i never would have ordered it online bc it's petite.  i bought a petite and am 5'8\".  i love the length...   \n",
       "2  I had such high hopes for this dress and really wanted it to work for me. i initially ordered the petite small (my usual size) but i found this to be outrageously small. so small in fact that i co...   \n",
       "3                                                                             I love, love, love this jumpsuit. it's fun, flirty, and fabulous! every time i wear it, i get nothing but great compliments!   \n",
       "4         This shirt is very flattering to all due to the adjustable front tie. it is the perfect length to wear with leggings and it is sleeveless so it pairs well with any cardigan. love this shirt!!!   \n",
       "\n",
       "   Rating  Recommended IND  Positive Feedback Count   Division Name  \\\n",
       "0       4                1                        0       Initmates   \n",
       "1       5                1                        4         General   \n",
       "2       3                0                        0         General   \n",
       "3       5                1                        0  General Petite   \n",
       "4       5                1                        6         General   \n",
       "\n",
       "  Department Name Class Name  \n",
       "0        Intimate  Intimates  \n",
       "1         Dresses    Dresses  \n",
       "2         Dresses    Dresses  \n",
       "3         Bottoms      Pants  \n",
       "4            Tops    Blouses  "
      ]
     },
     "execution_count": 4,
     "metadata": {},
     "output_type": "execute_result"
    }
   ],
   "source": [
    "data.head()"
   ]
  },
  {
   "cell_type": "markdown",
   "metadata": {},
   "source": [
    "## Check Missing Data "
   ]
  },
  {
   "cell_type": "code",
   "execution_count": 5,
   "metadata": {},
   "outputs": [
    {
     "data": {
      "text/plain": [
       "Unnamed: 0                    0\n",
       "Clothing ID                   0\n",
       "Age                           0\n",
       "Title                      3810\n",
       "Review Text                 845\n",
       "Rating                        0\n",
       "Recommended IND               0\n",
       "Positive Feedback Count       0\n",
       "Division Name                14\n",
       "Department Name              14\n",
       "Class Name                   14\n",
       "dtype: int64"
      ]
     },
     "execution_count": 5,
     "metadata": {},
     "output_type": "execute_result"
    }
   ],
   "source": [
    "data.isnull().sum()"
   ]
  },
  {
   "cell_type": "code",
   "execution_count": 6,
   "metadata": {},
   "outputs": [],
   "source": [
    "# drop observations with missing data\n",
    "data.dropna(axis=0,inplace=True)"
   ]
  },
  {
   "cell_type": "code",
   "execution_count": 7,
   "metadata": {},
   "outputs": [
    {
     "data": {
      "text/plain": [
       "(19662, 11)"
      ]
     },
     "execution_count": 7,
     "metadata": {},
     "output_type": "execute_result"
    }
   ],
   "source": [
    "data.shape"
   ]
  },
  {
   "cell_type": "markdown",
   "metadata": {},
   "source": [
    "## Preprocess the Text Data"
   ]
  },
  {
   "cell_type": "markdown",
   "metadata": {},
   "source": [
    "Before getting started with text summarization, let's preprocess the text in __Title__ and __Review Text__. The objective is to make the text suitable for modeling by taking off as much noise as possible.\n",
    "\n",
    "We will carry out the following preprocessing operations:\n",
    "\n",
    "1. Convert text to lowercase\n",
    "2. Expand the contractions (\"isn't\" to \"is not\")\n",
    "3. Remove everyhing from the text except alphabets, '.' and ','\n",
    "4. Remove single-character tokens"
   ]
  },
  {
   "cell_type": "code",
   "execution_count": 8,
   "metadata": {},
   "outputs": [],
   "source": [
    "# define a dictionary of all possible contractions and their expanded forms\n",
    "contraction_mapping = {\"ain't\": \"is not\", \"aren't\": \"are not\",\"can't\": \"cannot\", \"'cause\": \"because\", \"could've\": \"could have\", \"couldn't\": \"could not\",\n",
    "                           \"didn't\": \"did not\",  \"doesn't\": \"does not\", \"don't\": \"do not\", \"hadn't\": \"had not\", \"hasn't\": \"has not\", \"haven't\": \"have not\",\n",
    "                           \"he'd\": \"he would\",\"he'll\": \"he will\", \"he's\": \"he is\", \"how'd\": \"how did\", \"how'd'y\": \"how do you\", \"how'll\": \"how will\", \"how's\": \"how is\",\n",
    "                           \"I'd\": \"I would\", \"I'd've\": \"I would have\", \"I'll\": \"I will\", \"I'll've\": \"I will have\",\"I'm\": \"I am\", \"I've\": \"I have\", \"i'd\": \"i would\",\n",
    "                           \"i'll\": \"i will\",  \"i'll've\": \"i will have\",\"i'm\": \"i am\", \"i've\": \"i have\", \"isn't\": \"is not\", \"it'd\": \"it would\",\n",
    "                           \"it'll\": \"it will\", \"it'll've\": \"it will have\",\"it's\": \"it is\", \"let's\": \"let us\", \"ma'am\": \"madam\",\n",
    "                           \"might've\": \"might have\",\"mightn't\": \"might not\",\"mightn't've\": \"might not have\", \"must've\": \"must have\",\n",
    "                           \"mustn't\": \"must not\", \"mustn't've\": \"must not have\", \"needn't\": \"need not\", \"needn't've\": \"need not have\",\"o'clock\": \"of the clock\",\n",
    "                           \"oughtn't\": \"ought not\", \"oughtn't've\": \"ought not have\", \"shan't\": \"shall not\", \"sha'n't\": \"shall not\", \"shan't've\": \"shall not have\",\n",
    "                           \"she'd\": \"she would\", \"she'd've\": \"she would have\", \"she'll\": \"she will\", \"she'll've\": \"she will have\", \"she's\": \"she is\",\n",
    "                           \"should've\": \"should have\", \"shouldn't\": \"should not\", \"shouldn't've\": \"should not have\", \"so've\": \"so have\",\"so's\": \"so as\",\n",
    "                           \"this's\": \"this is\",\"that'd\": \"that would\", \"that'd've\": \"that would have\", \"that's\": \"that is\", \"there'd\": \"there would\",\n",
    "                           \"there'd've\": \"there would have\", \"there's\": \"there is\", \"here's\": \"here is\",\"they'd\": \"they would\", \"they'd've\": \"they would have\",\n",
    "                           \"they'll\": \"they will\", \"they'll've\": \"they will have\", \"they're\": \"they are\", \"they've\": \"they have\", \"to've\": \"to have\",\n",
    "                           \"wasn't\": \"was not\", \"we'd\": \"we would\", \"we'd've\": \"we would have\", \"we'll\": \"we will\", \"we'll've\": \"we will have\", \"we're\": \"we are\",\n",
    "                           \"we've\": \"we have\", \"weren't\": \"were not\", \"what'll\": \"what will\", \"what'll've\": \"what will have\", \"what're\": \"what are\",\n",
    "                           \"what's\": \"what is\", \"what've\": \"what have\", \"when's\": \"when is\", \"when've\": \"when have\", \"where'd\": \"where did\", \"where's\": \"where is\",\n",
    "                           \"where've\": \"where have\", \"who'll\": \"who will\", \"who'll've\": \"who will have\", \"who's\": \"who is\", \"who've\": \"who have\",\n",
    "                           \"why's\": \"why is\", \"why've\": \"why have\", \"will've\": \"will have\", \"won't\": \"will not\", \"won't've\": \"will not have\",\n",
    "                           \"would've\": \"would have\", \"wouldn't\": \"would not\", \"wouldn't've\": \"would not have\", \"y'all\": \"you all\",\n",
    "                           \"y'all'd\": \"you all would\",\"y'all'd've\": \"you all would have\",\"y'all're\": \"you all are\",\"y'all've\": \"you all have\",\n",
    "                           \"you'd\": \"you would\", \"you'd've\": \"you would have\", \"you'll\": \"you will\", \"you'll've\": \"you will have\",\n",
    "                           \"you're\": \"you are\", \"you've\": \"you have\"}"
   ]
  },
  {
   "cell_type": "markdown",
   "metadata": {},
   "source": [
    "Let's define a function that will preprocess and clean the text."
   ]
  },
  {
   "cell_type": "code",
   "execution_count": 9,
   "metadata": {},
   "outputs": [],
   "source": [
    "def text_cleaner(text):\n",
    "    newString = text.lower()\n",
    "    newString = ' '.join([contraction_mapping[t] if t in contraction_mapping else t for t in newString.split()])\n",
    "    newString = re.sub(r\"’s\\b\",\"\",newString)\n",
    "    newString = re.sub(\"[^a-zA-Z.,]\", \" \", newString)\n",
    "      \n",
    "    # remove terms with length = 1\n",
    "    long_tokens=[]\n",
    "    \n",
    "    for i in newString.split():\n",
    "        if(len(i) > 1):\n",
    "            long_tokens.append(i)\n",
    "    \n",
    "    # return preprocessed tweets\n",
    "    return \" \".join(long_tokens)"
   ]
  },
  {
   "cell_type": "markdown",
   "metadata": {},
   "source": [
    "Now preprocess the text in the features __Review Text__ and __Title__."
   ]
  },
  {
   "cell_type": "code",
   "execution_count": 10,
   "metadata": {},
   "outputs": [],
   "source": [
    "# preprocess review text\n",
    "cleaned_text = []\n",
    "reviews=np.array(data['Review Text'])\n",
    "\n",
    "for i in range(len(reviews)):\n",
    "    cleaned_text.append(text_cleaner(reviews[i]))\n",
    "    \n",
    "    \n",
    "# preprocess titles\n",
    "cleaned_summary = []\n",
    "summary=np.array(data['Title'])\n",
    "\n",
    "for i in range(len(summary)):\n",
    "    cleaned_summary.append(text_cleaner(summary[i]))\n",
    "    \n",
    "# create a dataframe\n",
    "df=pd.DataFrame({'text':cleaned_text,'summary':cleaned_summary,'reviews':reviews})"
   ]
  },
  {
   "cell_type": "markdown",
   "metadata": {},
   "source": [
    "<br>\n",
    "\n",
    "## Text to Sequences"
   ]
  },
  {
   "cell_type": "markdown",
   "metadata": {},
   "source": [
    "Let's check the distribution of the length of the reviews and the titles. It will help us in finding the suitable maximum length of the text that will be used in the encoder-decoder model"
   ]
  },
  {
   "cell_type": "code",
   "execution_count": 11,
   "metadata": {},
   "outputs": [
    {
     "data": {
      "image/png": "[encoded data removed]",
      "text/plain": [
       "<Figure size 432x288 with 1 Axes>"
      ]
     },
     "metadata": {
      "needs_background": "light"
     },
     "output_type": "display_data"
    },
    {
     "data": {
      "image/png": "[encoded data removed]",
      "text/plain": [
       "<Figure size 432x288 with 1 Axes>"
      ]
     },
     "metadata": {
      "needs_background": "light"
     },
     "output_type": "display_data"
    }
   ],
   "source": [
    "text_word_count = []\n",
    "summary_word_count=[]\n",
    "\n",
    "for i in df['text']:\n",
    "      text_word_count.append(len(i.split()))\n",
    "        \n",
    "for i in df['summary']:\n",
    "      summary_word_count.append(len(i.split()))\n",
    "        \n",
    "text_length_df = pd.DataFrame({'text':text_word_count})\n",
    "text_length_df.hist(bins = 30,range=(0,1000))\n",
    "\n",
    "summary_length_df = pd.DataFrame({'summary':summary_word_count})\n",
    "summary_length_df.hist(bins = 30,range=(0,100))\n",
    "\n",
    "plt.show()"
   ]
  },
  {
   "cell_type": "code",
   "execution_count": 12,
   "metadata": {},
   "outputs": [],
   "source": [
    "# maximum length for text (user reviews)\n",
    "max_text_len = 50\n",
    "\n",
    "# maximum length for summaries (titles)\n",
    "max_summary_len = 7"
   ]
  },
  {
   "cell_type": "markdown",
   "metadata": {},
   "source": [
    "Let's add the __start-of-sentence__ and __end-of-sentence__ tokens (\"sostok\" and \"eostok\") to the summaries."
   ]
  },
  {
   "cell_type": "code",
   "execution_count": 13,
   "metadata": {},
   "outputs": [],
   "source": [
    "df['summary'] = df['summary'].apply(lambda x : 'sostok '+ x + ' eostok')"
   ]
  },
  {
   "cell_type": "code",
   "execution_count": 14,
   "metadata": {},
   "outputs": [
    {
     "data": {
      "text/plain": [
       "(19662, 3)"
      ]
     },
     "execution_count": 14,
     "metadata": {},
     "output_type": "execute_result"
    }
   ],
   "source": [
    "df.shape"
   ]
  },
  {
   "cell_type": "markdown",
   "metadata": {},
   "source": [
    "<br>\n",
    "\n",
    "### Train-Test Split"
   ]
  },
  {
   "cell_type": "code",
   "execution_count": 15,
   "metadata": {},
   "outputs": [],
   "source": [
    "from sklearn.model_selection import train_test_split\n",
    "\n",
    "#split the cleaned data\n",
    "x_tr, x_val, y_tr, y_val = train_test_split( df['text'],df['summary'],test_size = 0.1, random_state=0,shuffle=True)\n",
    "\n",
    "#split the uncleaned data into same ratio with same random state\n",
    "text_tr, text_val, y_tr, y_val = train_test_split( df['reviews'],df['summary'],test_size = 0.1, random_state=0,shuffle=True)"
   ]
  },
  {
   "cell_type": "code",
   "execution_count": 16,
   "metadata": {},
   "outputs": [
    {
     "data": {
      "text/plain": [
       "(17695,)"
      ]
     },
     "execution_count": 16,
     "metadata": {},
     "output_type": "execute_result"
    }
   ],
   "source": [
    "x_tr.shape"
   ]
  },
  {
   "cell_type": "markdown",
   "metadata": {},
   "source": [
    "### Create a Keras Tokenizer for Reviews"
   ]
  },
  {
   "cell_type": "code",
   "execution_count": 19,
   "metadata": {},
   "outputs": [],
   "source": [
    "from keras.preprocessing.text import Tokenizer \n",
    "from keras.preprocessing.sequence import pad_sequences\n",
    "\n",
    "x_tokenizer = Tokenizer(num_words=5000) \n",
    "x_tokenizer.fit_on_texts(list(x_tr))"
   ]
  },
  {
   "cell_type": "markdown",
   "metadata": {},
   "source": [
    "### Convert Text to Integer Sequences"
   ]
  },
  {
   "cell_type": "code",
   "execution_count": 20,
   "metadata": {},
   "outputs": [],
   "source": [
    "#convert text sequences into integer sequences\n",
    "x_tr_seq    =   x_tokenizer.texts_to_sequences(x_tr) \n",
    "x_val_seq   =   x_tokenizer.texts_to_sequences(x_val)\n",
    "\n",
    "#padding zero upto maximum length\n",
    "x_tr   =   pad_sequences(x_tr_seq,  maxlen=max_text_len, padding='post')\n",
    "x_val  =   pad_sequences(x_val_seq, maxlen=max_text_len, padding='post')\n",
    "\n",
    "#size of vocabulary\n",
    "x_voc   =  x_tokenizer.num_words + 1"
   ]
  },
  {
   "cell_type": "markdown",
   "metadata": {},
   "source": [
    "### Create a Keras Tokenizer for Summaries / Titles"
   ]
  },
  {
   "cell_type": "code",
   "execution_count": 21,
   "metadata": {},
   "outputs": [],
   "source": [
    "y_tokenizer = Tokenizer(num_words = 3000)   \n",
    "y_tokenizer.fit_on_texts(list(y_tr))"
   ]
  },
  {
   "cell_type": "code",
   "execution_count": 22,
   "metadata": {},
   "outputs": [],
   "source": [
    "summary_val = np.array(y_val)\n",
    "text_val = np.array(text_val)"
   ]
  },
  {
   "cell_type": "markdown",
   "metadata": {},
   "source": [
    "### Convert Summaries / Titles to Integer Sequences"
   ]
  },
  {
   "cell_type": "code",
   "execution_count": 23,
   "metadata": {},
   "outputs": [],
   "source": [
    "# Convert word sequences to integer sequences\n",
    "y_tr_seq = y_tokenizer.texts_to_sequences(y_tr) \n",
    "y_val_seq = y_tokenizer.texts_to_sequences(y_val) "
   ]
  },
  {
   "cell_type": "markdown",
   "metadata": {},
   "source": [
    "Eliminate the summaries/titles sequences whose length is less than 4."
   ]
  },
  {
   "cell_type": "code",
   "execution_count": 24,
   "metadata": {},
   "outputs": [],
   "source": [
    "# eliminate the sequences from training data\n",
    "index=[]\n",
    "for i in range(len(y_tr_seq)):\n",
    "    if(len(y_tr_seq[i])<=3):\n",
    "        index.append(i)\n",
    "        \n",
    "y_tr_seq = np.delete(y_tr_seq,index, axis=0)\n",
    "x_tr = np.delete(x_tr,index, axis=0)\n",
    "\n",
    "# eliminate the sequences from test data\n",
    "index = []\n",
    "for i in range(len(y_val_seq)):\n",
    "    if(len(y_val_seq[i])<=3):\n",
    "        index.append(i)\n",
    "        \n",
    "y_val_seq = np.delete(y_val_seq,index, axis=0)\n",
    "x_val = np.delete(x_val,index, axis=0)\n",
    "text_val = np.delete(text_val,index,axis=0)\n",
    "summary_val = np.delete(summary_val,index,axis=0)"
   ]
  },
  {
   "cell_type": "code",
   "execution_count": 25,
   "metadata": {},
   "outputs": [],
   "source": [
    "#padding zero upto maximum length\n",
    "y_tr = pad_sequences(y_tr_seq, maxlen=max_summary_len, padding='post')\n",
    "y_val = pad_sequences(y_val_seq, maxlen=max_summary_len, padding='post')\n",
    "\n",
    "#size of vocabulary\n",
    "y_voc = y_tokenizer.num_words +1"
   ]
  },
  {
   "cell_type": "markdown",
   "metadata": {},
   "source": [
    "<br>\n",
    "\n",
    "## Build a Sequence-to-Sequence Model for Text Summarization"
   ]
  },
  {
   "cell_type": "code",
   "execution_count": 26,
   "metadata": {},
   "outputs": [
    {
     "name": "stdout",
     "output_type": "stream",
     "text": [
      "Model: \"functional_1\"\n",
      "__________________________________________________________________________________________________\n",
      "Layer (type)                    Output Shape         Param #     Connected to                     \n",
      "==================================================================================================\n",
      "input_1 (InputLayer)            [(None, 50)]         0                                            \n",
      "__________________________________________________________________________________________________\n",
      "input_2 (InputLayer)            [(None, None)]       0                                            \n",
      "__________________________________________________________________________________________________\n",
      "embedding (Embedding)           (None, 50, 100)      500100      input_1[0][0]                    \n",
      "__________________________________________________________________________________________________\n",
      "embedding_1 (Embedding)         (None, None, 100)    300100      input_2[0][0]                    \n",
      "__________________________________________________________________________________________________\n",
      "lstm (LSTM)                     [(None, 50, 300), (N 481200      embedding[0][0]                  \n",
      "__________________________________________________________________________________________________\n",
      "lstm_1 (LSTM)                   [(None, None, 300),  481200      embedding_1[0][0]                \n",
      "                                                                 lstm[0][1]                       \n",
      "                                                                 lstm[0][2]                       \n",
      "__________________________________________________________________________________________________\n",
      "time_distributed (TimeDistribut (None, None, 300)    90300       lstm_1[0][0]                     \n",
      "__________________________________________________________________________________________________\n",
      "time_distributed_1 (TimeDistrib (None, None, 3001)   903301      time_distributed[0][0]           \n",
      "==================================================================================================\n",
      "Total params: 2,756,201\n",
      "Trainable params: 2,756,201\n",
      "Non-trainable params: 0\n",
      "__________________________________________________________________________________________________\n"
     ]
    }
   ],
   "source": [
    "import keras\n",
    "from keras.layers import Input, LSTM, Embedding, Dense, concatenate, TimeDistributed, Add, dot, Activation\n",
    "from keras.models import Model\n",
    "from keras.callbacks import EarlyStopping, ModelCheckpoint\n",
    "\n",
    "# No. of hidden nodes\n",
    "latent_dim = 300\n",
    "# Dimension of embeddings\n",
    "embedding_dim=100\n",
    "\n",
    "## Encoder-Decoder Structure for model training\n",
    "\n",
    "#Encoder \n",
    "encoder_inputs=Input(shape=(max_text_len,))\n",
    "encoder_embedding = Embedding(x_voc,embedding_dim, trainable=True, mask_zero=True)(encoder_inputs)\n",
    "\n",
    "encoder_lstm = LSTM(latent_dim,return_sequences=True,return_state=True,go_backwards=True)\n",
    "encoder_outputs, state_h, state_c = encoder_lstm(encoder_embedding)\n",
    "\n",
    "#Decoder\n",
    "decoder_inputs=Input(shape=(None,))\n",
    "dec_emb_layer = Embedding(y_voc, embedding_dim,trainable=True,mask_zero=True)\n",
    "dec_emb = dec_emb_layer(decoder_inputs)\n",
    "\n",
    "decoder_lstm = LSTM(latent_dim,return_sequences=True,return_state=True)\n",
    "decoder_outputs, dec_state_h, dec_state_c = decoder_lstm(dec_emb,initial_state=[state_h, state_c])\n",
    "\n",
    "#Dense layer\n",
    "dense_layer = TimeDistributed(Dense(latent_dim, activation=\"tanh\"))\n",
    "dense_outputs=dense_layer(decoder_outputs) \n",
    "\n",
    "#Output layer\n",
    "output_layer = TimeDistributed(Dense(y_voc, activation=\"softmax\"))\n",
    "decoder_outputs=output_layer(dense_outputs)\n",
    "\n",
    "model = Model([encoder_inputs,decoder_inputs], decoder_outputs)\n",
    "model.summary()"
   ]
  },
  {
   "cell_type": "code",
   "execution_count": 27,
   "metadata": {},
   "outputs": [],
   "source": [
    "model.compile(optimizer='adam', loss='sparse_categorical_crossentropy')"
   ]
  },
  {
   "cell_type": "markdown",
   "metadata": {},
   "source": [
    "### Define Early Stopping and Save Model"
   ]
  },
  {
   "cell_type": "code",
   "execution_count": 28,
   "metadata": {},
   "outputs": [],
   "source": [
    "es = EarlyStopping(monitor='val_loss', mode='min', verbose=1, patience=2, min_delta=0.0001) \n",
    "mc = ModelCheckpoint('best_model_9.hdf5', monitor='val_loss', verbose=1, save_best_only=True, mode='min')"
   ]
  },
  {
   "cell_type": "code",
   "execution_count": 29,
   "metadata": {},
   "outputs": [
    {
     "data": {
      "text/plain": [
       "(15755, 50)"
      ]
     },
     "execution_count": 29,
     "metadata": {},
     "output_type": "execute_result"
    }
   ],
   "source": [
    "x_tr.shape"
   ]
  },
  {
   "cell_type": "markdown",
   "metadata": {},
   "source": [
    "### Initiate Model Training"
   ]
  },
  {
   "cell_type": "code",
   "execution_count": 30,
   "metadata": {},
   "outputs": [
    {
     "name": "stdout",
     "output_type": "stream",
     "text": [
      "Epoch 1/50\n",
      "493/493 [==============================] - ETA: 0s - loss: 3.3820\n",
      "Epoch 00001: val_loss improved from inf to 2.94645, saving model to best_model_9.hdf5\n",
      "493/493 [==============================] - 63s 127ms/step - loss: 3.3820 - val_loss: 2.9465\n",
      "Epoch 2/50\n",
      "493/493 [==============================] - ETA: 0s - loss: 2.9038\n",
      "Epoch 00002: val_loss improved from 2.94645 to 2.76197, saving model to best_model_9.hdf5\n",
      "493/493 [==============================] - 62s 126ms/step - loss: 2.9038 - val_loss: 2.7620\n",
      "Epoch 3/50\n",
      "493/493 [==============================] - ETA: 0s - loss: 2.7398\n",
      "Epoch 00003: val_loss improved from 2.76197 to 2.69859, saving model to best_model_9.hdf5\n",
      "493/493 [==============================] - 59s 121ms/step - loss: 2.7398 - val_loss: 2.6986\n",
      "Epoch 4/50\n",
      "493/493 [==============================] - ETA: 0s - loss: 2.6258\n",
      "Epoch 00004: val_loss improved from 2.69859 to 2.65586, saving model to best_model_9.hdf5\n",
      "493/493 [==============================] - 58s 118ms/step - loss: 2.6258 - val_loss: 2.6559\n",
      "Epoch 5/50\n",
      "493/493 [==============================] - ETA: 0s - loss: 2.5215\n",
      "Epoch 00005: val_loss improved from 2.65586 to 2.64066, saving model to best_model_9.hdf5\n",
      "493/493 [==============================] - 58s 119ms/step - loss: 2.5215 - val_loss: 2.6407\n",
      "Epoch 6/50\n",
      "493/493 [==============================] - ETA: 0s - loss: 2.4211\n",
      "Epoch 00006: val_loss improved from 2.64066 to 2.61068, saving model to best_model_9.hdf5\n",
      "493/493 [==============================] - 59s 119ms/step - loss: 2.4211 - val_loss: 2.6107\n",
      "Epoch 7/50\n",
      "493/493 [==============================] - ETA: 0s - loss: 2.3253\n",
      "Epoch 00007: val_loss did not improve from 2.61068\n",
      "493/493 [==============================] - 58s 117ms/step - loss: 2.3253 - val_loss: 2.6350\n",
      "Epoch 8/50\n",
      "493/493 [==============================] - ETA: 0s - loss: 2.2342\n",
      "Epoch 00008: val_loss did not improve from 2.61068\n",
      "493/493 [==============================] - 59s 119ms/step - loss: 2.2342 - val_loss: 2.6374\n",
      "Epoch 00008: early stopping\n"
     ]
    }
   ],
   "source": [
    "history=model.fit([x_tr,y_tr[:,:-1]], y_tr.reshape(y_tr.shape[0],y_tr.shape[1], 1)[:,1:] ,epochs=50, callbacks=[es,mc], batch_size=32, validation_data=([x_val,y_val[:,:-1]], y_val.reshape(y_val.shape[0],y_val.shape[1], 1)[:,1:]))"
   ]
  },
  {
   "cell_type": "markdown",
   "metadata": {},
   "source": [
    "<br>\n",
    "\n",
    "### Load the Saved Model"
   ]
  },
  {
   "cell_type": "code",
   "execution_count": 31,
   "metadata": {},
   "outputs": [],
   "source": [
    "model=keras.models.load_model('best_model_9.hdf5')"
   ]
  },
  {
   "cell_type": "code",
   "execution_count": 32,
   "metadata": {},
   "outputs": [
    {
     "data": {
      "image/png": "[encoded data removed]",
      "text/plain": [
       "<Figure size 432x288 with 1 Axes>"
      ]
     },
     "metadata": {
      "needs_background": "light"
     },
     "output_type": "display_data"
    }
   ],
   "source": [
    "from matplotlib import pyplot\n",
    "pyplot.plot(history.history['loss'], label='train')\n",
    "pyplot.plot(history.history['val_loss'], label='test')\n",
    "pyplot.legend()\n",
    "pyplot.show()"
   ]
  },
  {
   "cell_type": "markdown",
   "metadata": {},
   "source": [
    "## Model Inference "
   ]
  },
  {
   "cell_type": "code",
   "execution_count": 33,
   "metadata": {},
   "outputs": [],
   "source": [
    "reverse_target_word_index=dict((v, k) for k, v in y_tokenizer.word_index.items())\n",
    "reverse_source_word_index=dict((v, k) for k, v in x_tokenizer.word_index.items())\n",
    "\n",
    "## Encoder-Decoder structure for model inference\n",
    "\n",
    "# Encode the input sequence to get the feature vector\n",
    "encoder_model = Model(inputs=encoder_inputs,outputs=[encoder_outputs, state_h, state_c])\n",
    "\n",
    "# Decoder setup\n",
    "# Below tensors will hold the states of the previous time step\n",
    "decoder_state_input_h = Input(shape=(latent_dim,))\n",
    "decoder_state_input_c = Input(shape=(latent_dim,))\n",
    "decoder_hidden_state_input = Input(shape=(max_text_len,latent_dim))\n",
    "\n",
    "# Get the embeddings of the decoder sequence\n",
    "dec_emb= dec_emb_layer(decoder_inputs) \n",
    "\n",
    "# To predict the next word in the sequence, set the initial states to the states from the previous time step\n",
    "dec_outputs, dec_h, dec_c = decoder_lstm(dec_emb, initial_state=[decoder_state_input_h, decoder_state_input_c])\n",
    "\n",
    "#dense layer\n",
    "dense_outputs=dense_layer(dec_outputs)\n",
    "\n",
    "# A dense softmax layer to generate prob dist. over the target vocabulary\n",
    "decoder_outputs2 = output_layer(dense_outputs) \n",
    "\n",
    "# Final decoder model\n",
    "decoder_model = Model(\n",
    "    [decoder_inputs] + [decoder_hidden_state_input,decoder_state_input_h, decoder_state_input_c],\n",
    "    [decoder_outputs2] + [dec_h, dec_c])"
   ]
  },
  {
   "cell_type": "code",
   "execution_count": 34,
   "metadata": {},
   "outputs": [],
   "source": [
    "def decode_sequence(input_seq):\n",
    "    # Encode the input as state vectors.\n",
    "    e_out, e_h, e_c = encoder_model.predict(input_seq)\n",
    "    \n",
    "    # Generate empty target sequence of length 1.\n",
    "    target_seq = np.zeros((1,1))\n",
    "    \n",
    "    # Populate the first word of target sequence with the start word.\n",
    "    target_seq[0, 0] = y_tokenizer.word_index['sostok']\n",
    "\n",
    "    stop_condition = False\n",
    "    decoded_sentence = ''\n",
    "    while not stop_condition:\n",
    "      \n",
    "        output_tokens, h, c = decoder_model.predict([target_seq] + [e_out,e_h, e_c])\n",
    "\n",
    "        # Sample a token\n",
    "        sampled_token_index = np.argmax(output_tokens[0, -1, :]) \n",
    "        sampled_token = reverse_target_word_index[sampled_token_index]\n",
    "        \n",
    "        if(sampled_token!='eostok'):\n",
    "            decoded_sentence= decoded_sentence+sampled_token+' '\n",
    "\n",
    "        # Exit condition: either hit max length or find stop word.\n",
    "        if (sampled_token == 'eostok'  or len(decoded_sentence.split()) >= (max_summary_len-1)):\n",
    "            stop_condition = True\n",
    "\n",
    "        # Update the target sequence (of length 1).\n",
    "        target_seq = np.zeros((1,1))\n",
    "        target_seq[0, 0] = sampled_token_index\n",
    "\n",
    "        # Update internal states\n",
    "        e_h, e_c = h, c\n",
    "\n",
    "    return decoded_sentence.strip()"
   ]
  },
  {
   "cell_type": "markdown",
   "metadata": {},
   "source": [
    "### Convert Validation Integer Sequences back to Text"
   ]
  },
  {
   "cell_type": "code",
   "execution_count": 35,
   "metadata": {},
   "outputs": [],
   "source": [
    "def seq2source(input_seq):\n",
    "    newString=''\n",
    "    for i in input_seq:\n",
    "        if(i!=0):\n",
    "            newString=newString+reverse_source_word_index[i]+' '\n",
    "    return newString.strip()"
   ]
  },
  {
   "cell_type": "code",
   "execution_count": 36,
   "metadata": {},
   "outputs": [],
   "source": [
    "source=[]\n",
    "for i in range(len(x_val)):\n",
    "    source.append(seq2source(x_val[i]))  "
   ]
  },
  {
   "cell_type": "code",
   "execution_count": 37,
   "metadata": {},
   "outputs": [],
   "source": [
    "summary_val=[' '.join(i.split()[1:-1]) for i in summary_val]"
   ]
  },
  {
   "cell_type": "code",
   "execution_count": 38,
   "metadata": {},
   "outputs": [],
   "source": [
    "index=[]\n",
    "for i in range(len(source)):\n",
    "    if(len(source[i].split()) >= 10):\n",
    "        index.append(i)"
   ]
  },
  {
   "cell_type": "markdown",
   "metadata": {},
   "source": [
    "### Generate Some Summaries"
   ]
  },
  {
   "cell_type": "code",
   "execution_count": 39,
   "metadata": {},
   "outputs": [
    {
     "name": "stdout",
     "output_type": "stream",
     "text": [
      "Review: Couldn't wait for this sweater to arrive. i love oversized sweaters for the fall! unfortunately this sweater is extremely itchy that it has to be returned :( \n",
      "\n",
      "Actual summary: beautiful sweater but extremely itchy\n",
      "Predicted summary: wanted to love it\n",
      "\n",
      "\n",
      "Review: Love this jumpsuit, i was rather apprehensive as i didn't think it would look as good on me as on the model but i am totally smitten with it. very flattering, especially if you have some bumps and rolls. i ordered in a medium (5.7 and 145 lbs and it fits perfectly. definitely recommend to order down. \n",
      "as i'm wearing it to yoga i wear a sports bra underneath, that also helps with the very deep and open back to cover up a bit more. highly recommend, the top hits in all the right spots to make one \n",
      "\n",
      "Actual summary: very flattering\n",
      "Predicted summary: great fit\n",
      "\n",
      "\n",
      "Review: I so wanted this blouse to work. the lacework is beautiful, and it is a substantial and well made top. the neck fits well, which is not a given for this style top, and i really like the 3/4 length sleeves. but the top billows out like a tent on me in all directions, and it was an awkward length on me (not quite hip length, not quite tunic). wish this were cut a little straighter and longer. i'm 5'4\", 120 lbs and tried a size s. \n",
      "\n",
      "Actual summary: loved this blouse, just not on me\n",
      "Predicted summary: beautiful but\n",
      "\n",
      "\n",
      "Review: Beautiful dress! perfect mid length dress for the colder months. i tried a size 2 regular first (my normal dress size) but it was a little baggy, so the 0 fit perfectly. \n",
      "\n",
      "Actual summary: beautiful shortt dress\n",
      "Predicted summary: great fit\n",
      "\n",
      "\n",
      "Review: The design is loose and forgiving, and it is very comfortable. the fabric is soft and light weight, and i love how the sleeves are full cut so even those without stick arms can fit in them! it drapes beautifully and is quite lovely on. you can easily dress it up with jewelry or wear it over jeans for a great go-to top on the weekend. i also bought the purple version - it says it's mauve in the description, but it's really more of a pale lavender color. still very pretty, but i wish it was mauve! \n",
      "\n",
      "Actual summary: comfort style in one great top\n",
      "Predicted summary: beautiful dress\n",
      "\n",
      "\n",
      "Review: First of all, this dress is not cotton. it is 100% silk. it also not a pullover dress (it has a side zipper) and does not have an elastic waist like the description says. lastly, it is not by moulinette souers. i've really never seen a description so far off on one of the items pictured. nevertheless, it is a gorgeous dress. the silk is beautiful and can easily be worn for fall with a sweater or jacket. the waist is a little poofy and the chest is a bit snug. however, i was able to go down a siz \n",
      "\n",
      "Actual summary: description way off, but beautiful dress\n",
      "Predicted summary: not for the price\n",
      "\n",
      "\n",
      "Review: 1. i'm 5'5\" tall, 145 lbs, and 38-32-40. i wear a size 30 in hyphen chinos and they are loose. i could get in a size 10, but i felt the stretchiness made it look like it was pulling slightly. i decided to get the size 12 even though it was a hair loose.\n",
      "\n",
      "2. the skirt hem is right above my knees. it's not as short as it appears on the model.\n",
      "\n",
      "3. the back pockets are sewn shut, so they won't sag.\n",
      "\n",
      "4. my only complaint is that the hook and eye at the waist pulls away funny, but i'm going to t \n",
      "\n",
      "Actual summary: cool summer skirt.\n",
      "Predicted summary: pretty but\n",
      "\n",
      "\n",
      "Review: I had been looking for a new plaid shirt for fall. this one is perfect! the yellow is muted, but i really like it that way. other reviewers have commented on poor quality, but it doesn't seem that bad to me. definitely recommend! \n",
      "\n",
      "Actual summary: love it\n",
      "Predicted summary: the perfect for summer\n",
      "\n",
      "\n",
      "Review: These joggers are gorgeous--you can even dress them up! the quality and softness is amazing and very expensive looking. the fit is perfect not to mention the fact that they are very flattering.\n",
      "really, i knew the minute i saw them, i would love them. but, i do have to say that the lovely model\n",
      "wearing them ---the model with the wine colored shirt and the awesome red bag (i bought that too!!!)and that big smile sold me!. many thanks to retailer--personal stylists carolyn and blair. always so helpfu \n",
      "\n",
      "Actual summary: love. love. love\n",
      "Predicted summary: perfect for summer\n",
      "\n",
      "\n",
      "Review: Form fitting, hugs in the right spots, and love the pattern. it's a little shorter than i expected and too formal to wear to work. however, an excellent evening dress. \n",
      "\n",
      "Actual summary: excellent dress\n",
      "Predicted summary: great fit\n",
      "\n",
      "\n",
      "Review: I think these are a cute pant. they run large in the waist/seat area but not in the length. i'm 5'4 and this gathered at my ankle. i like them even though i have to keep hoisting them up. keep in mind the tie to tighten the waist does not stay \n",
      "\n",
      "Actual summary: relaxed fit\n",
      "Predicted summary: great pants\n",
      "\n",
      "\n",
      "Review: This top is cute. i got the mint coloured one and like it. with that said, the sewing however is a bit off. the bottom of the top is angled. there is no mention of that in the description so it is safe to say it is not part of the design. it is not tremendously noticeable,  but i noticed it. i will still keep this top, coz i can camouflage that defect with a cardigan.  it is sheer, so if you are wearing it for work without cover, a camisole would be required or a nude bra. i am 5'0\", 109lbs, and \n",
      "\n",
      "Actual summary: fun top\n",
      "Predicted summary: wanted to love it\n",
      "\n",
      "\n",
      "Review: I love this shirt and have received compliments each time that i've worn it. there is a lot of visual interest from the vibrant colors, stitching and mesh panel on the back, and it is a great transitional piece from late summer to fall and into winter. my only complaint is that the threads pull easily, and there are no laundering instructions, so i had to log in to the website to learn that it was machine washable. i would definitely recommend using a lingerie bag, washing on delicate and not pu \n",
      "\n",
      "Actual summary: beautiful shirt, delicate care required\n",
      "Predicted summary: not for the price\n",
      "\n",
      "\n",
      "Review: This is an extraordinary blouse and it is the poster child of retailer. the embroidery looks beautiful online but i appreciate it much more in person. the details are breathtaking, especially the scalloped borders around the arm holes, neck, and hem lines. i grew up around embroidery art and this is very high quality work, not even one stitch out of place and no hanging loose threads either. i like the black thread on cream because it's classy and it displays the details. the blouse materia \n",
      "\n",
      "Actual summary: work of art\n",
      "Predicted summary: not for the body type\n",
      "\n",
      "\n",
      "Review: I am 5' 7\" with an athletic build (small chest, small waist, muscular hips/thighs). this shirt just hangs on me and makes me look much larger than i am. i purchased a small, an extra small would be way too short. i could see how it works for fuller figured girls. \n",
      "\n",
      "Actual summary: not great for athletic frame\n",
      "Predicted summary: beautiful but not for me\n",
      "\n",
      "\n",
      "Review: Love this vest! saw it and bought it instantly. i'm 5'8\" and slim and got the xs. it fits perfectly. there is a lot of \"puff\" to it, but it's really warm and soft. \n",
      "\n",
      "Actual summary: chambray vest\n",
      "Predicted summary: great fit\n",
      "\n",
      "\n",
      "Review: Very cute. a size small worked perfectly for me, fits like a glove. it has open sides so i wear a tank top under it. \n",
      "\n",
      "Actual summary: it is adorable\n",
      "Predicted summary: great top\n",
      "\n",
      "\n",
      "Review: I love the texture and sheen of corduroy combined with this beautiful evergreen color. i purchased size 10 and the somewhat stretchy fit accommodates my bust size (36dd) with a blouse or slim fitting sweater quite well. i think the skirt flares out too much and ends a little too low for my height, so i'm waiting for the petite to arrive to see if it's more flattering. i picked tts but may be a bit large for those who are less busty, so you may want to size down if you're slender or pear shaped. \n",
      "\n",
      "Actual summary: perfect winter dress\n",
      "Predicted summary: beautiful but not for me\n",
      "\n",
      "\n",
      "Review: This shirt is so cute alone with jeans or dressed up with nice jewelry, a scarf or cardi. its just the right weight, true to size, drapes nicely and its very flattering. i\"m sorry i didn't order more when i had the chance. its already sold out in the colors and sizes i wanted. excellent quality as usual -- thanks again retailer! \n",
      "\n",
      "Actual summary: perfect shirt\n",
      "Predicted summary: great basic tee\n",
      "\n",
      "\n",
      "Review: I noticed this top on the sale rack and loved the color palette. it would be a nice top through spring, summer and into fall. the colors in it will go with lots of things in most wardrobes. the cut and style of the top are flattering and it feels good on my skin. i can see wearing a shawl with it is cooler weather or perhaps a cropped sweater. the cap at the top of the sleeve is cute, although i wish it extended just a bit longer. i tried a xs and an s. probably could have purchased the xs, but \n",
      "\n",
      "Actual summary: worth look\n"
     ]
    },
    {
     "name": "stdout",
     "output_type": "stream",
     "text": [
      "Predicted summary: beautiful but\n",
      "\n",
      "\n"
     ]
    }
   ],
   "source": [
    "for i in random.sample(range(0,len(text_val)+1),20):\n",
    "    print(\"Review:\",text_val[index[i]],\"\\n\")\n",
    "    print(\"Actual summary:\",summary_val[index[i]])\n",
    "    print(\"Predicted summary:\",decode_sequence(x_val[index[i]].reshape(1,max_text_len)))\n",
    "    print(\"\\n\")"
   ]
  },
  {
   "cell_type": "code",
   "execution_count": null,
   "metadata": {},
   "outputs": [],
   "source": []
  }
 ],
 "metadata": {
  "kernelspec": {
   "display_name": "Python 3",
   "language": "python",
   "name": "python3"
  },
  "language_info": {
   "codemirror_mode": {
    "name": "ipython",
    "version": 3
   },
   "file_extension": ".py",
   "mimetype": "text/x-python",
   "name": "python",
   "nbconvert_exporter": "python",
   "pygments_lexer": "ipython3",
   "version": "3.7.6"
  }
 },
 "nbformat": 4,
 "nbformat_minor": 2
}
